{
 "cells": [
  {
   "cell_type": "markdown",
   "id": "e55e0a56-5a2d-4486-8098-9891ba235032",
   "metadata": {},
   "source": [
    "<h1>Data Science Tools and Ecosystem</h1>"
   ]
  },
  {
   "cell_type": "markdown",
   "id": "7c32e9f6-c17e-4acb-b4d0-32471d1676ee",
   "metadata": {},
   "source": [
    "In this notebook, Data Science Tools and Ecosystem are summarized."
   ]
  },
  {
   "cell_type": "markdown",
   "id": "446c5ade-4265-4e22-a7a8-63853284c80b",
   "metadata": {},
   "source": [
    "Objectives:\n",
    "<ul>\n",
    "<li>List popular languages for Data Science</li>\n",
    "<li>List the commonly used libraries used by Data Scientists include:</li>\n",
    "<li>Some of Arithmetic expressions</li>\n",
    "</ul>"
   ]
  },
  {
   "cell_type": "markdown",
   "id": "74980272-987f-4c2e-b626-d9282b1149ff",
   "metadata": {},
   "source": [
    "Some of the popular languages that Data Scientists use are:\n",
    "\n",
    "<ol>\n",
    "<li>R</li>\n",
    "<li>Python</li>\n",
    "<li>Julia</li>\n",
    "</ol>"
   ]
  },
  {
   "cell_type": "markdown",
   "id": "0dccc5bc-57e6-421a-933f-bfd9ea70f918",
   "metadata": {},
   "source": [
    "Some of the commonly used libraries used by Data Scientists include:\n",
    "<ol>\n",
    "<li>Matplotlib</li>\n",
    "<li>Pandas</li>\n",
    "<li>Numpy</li>\n",
    "</ol>"
   ]
  },
  {
   "cell_type": "markdown",
   "id": "d1a56c4f-e645-4b52-b0c8-32127e8057d6",
   "metadata": {},
   "source": [
    "| Data Science Tools| \n",
    "| -------- | \n",
    "| Weka  |\n",
    "| Scrapy |\n",
    "| Pandas    |"
   ]
  },
  {
   "cell_type": "markdown",
   "id": "7db6d363-7968-427c-aad8-3d2f9d15c7a1",
   "metadata": {},
   "source": [
    "Below are a few examples of evaluating arithmetic expressions in Python."
   ]
  },
  {
   "cell_type": "code",
   "execution_count": 2,
   "id": "fa1fdb89-3dc3-4dc2-9787-08d2b366e82d",
   "metadata": {
    "tags": []
   },
   "outputs": [
    {
     "data": {
      "text/plain": [
       "17"
      ]
     },
     "execution_count": 2,
     "metadata": {},
     "output_type": "execute_result"
    }
   ],
   "source": [
    "(3*4)+5"
   ]
  },
  {
   "cell_type": "code",
   "execution_count": 3,
   "id": "81d44794-0658-4f96-8b6c-94a52eea7df4",
   "metadata": {
    "tags": []
   },
   "outputs": [
    {
     "name": "stdout",
     "output_type": "stream",
     "text": [
      "3.3333333333333335\n"
     ]
    }
   ],
   "source": [
    "# This will convert 200 minutes to hours by diving by 60\n",
    "mins = 200\n",
    "h = mins / 60\n",
    "print(h)"
   ]
  },
  {
   "cell_type": "markdown",
   "id": "9275ebdf-605b-4092-a60d-2746226c9a08",
   "metadata": {},
   "source": [
    "<h2>Author<h2>\n",
    "\n",
    "Van  Tien Nguyen"
   ]
  },
  {
   "cell_type": "code",
   "execution_count": null,
   "id": "ba43bf26-8c40-48ff-8227-a7b135db259e",
   "metadata": {},
   "outputs": [],
   "source": []
  }
 ],
 "metadata": {
  "kernelspec": {
   "display_name": "Python",
   "language": "python",
   "name": "conda-env-python-py"
  },
  "language_info": {
   "codemirror_mode": {
    "name": "ipython",
    "version": 3
   },
   "file_extension": ".py",
   "mimetype": "text/x-python",
   "name": "python",
   "nbconvert_exporter": "python",
   "pygments_lexer": "ipython3",
   "version": "3.7.12"
  }
 },
 "nbformat": 4,
 "nbformat_minor": 5
}
